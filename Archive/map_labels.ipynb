{
 "cells": [
  {
   "cell_type": "code",
   "execution_count": 37,
   "metadata": {},
   "outputs": [
    {
     "name": "stdout",
     "output_type": "stream",
     "text": [
      "3-00000.txt 0 []\n",
      "3-00001.txt 0 []\n",
      "3-00003.txt 11 [('automobile', 'car', 1858), ('18-wheeler', 'truck', 1863), ('rig', 'truck', 1858), ('semi', 'truck', 1856), ('semitrailer', 'truck', 1863), ('trailer truck', 'truck', 1865), ('number plate', 'license plate', 1859), ('registration plate', 'license plate', 1865), ('license', 'license plate', 1868), ('license plate', 'license plate', 1860), ('license plate number', 'license plate', 1866)]\n",
      "3-00002.txt 11 [('automobile', 'car', 582), ('18-wheeler', 'truck', 587), ('rig', 'truck', 581), ('semi', 'truck', 585), ('semitrailer', 'truck', 583), ('trailer truck', 'truck', 579), ('number plate', 'license plate', 585), ('registration plate', 'license plate', 585), ('license', 'license plate', 585), ('license plate', 'license plate', 585), ('license plate number', 'license plate', 585)]\n",
      "3-00005.txt 11 [('automobile', 'car', 2010), ('18-wheeler', 'truck', 2007), ('rig', 'truck', 1993), ('semi', 'truck', 2000), ('semitrailer', 'truck', 2016), ('trailer truck', 'truck', 2018), ('number plate', 'license plate', 2013), ('registration plate', 'license plate', 2014), ('license', 'license plate', 2010), ('license plate', 'license plate', 2012), ('license plate number', 'license plate', 2013)]\n",
      "9-00004.txt 16 [('automobile', 'car', 1481), ('18-wheeler', 'truck', 1497), ('rig', 'truck', 1491), ('semi', 'truck', 1490), ('semitrailer', 'truck', 1495), ('trailer truck', 'truck', 1480), ('number plate', 'license plate', 100), ('number plate', 'license plate', 1483), ('registration plate', 'license plate', 100), ('registration plate', 'license plate', 1480), ('license', 'license plate', 104), ('license', 'license plate', 1488), ('license plate', 'license plate', 100), ('license plate', 'license plate', 1492), ('license plate number', 'license plate', 100), ('license plate number', 'license plate', 1484)]\n",
      "9-00002.txt 11 [('automobile', 'car', 580), ('18-wheeler', 'truck', 588), ('rig', 'truck', 582), ('semi', 'truck', 580), ('semitrailer', 'truck', 582), ('trailer truck', 'truck', 579), ('number plate', 'license plate', 581), ('registration plate', 'license plate', 586), ('license', 'license plate', 586), ('license plate', 'license plate', 586), ('license plate number', 'license plate', 586)]\n",
      "9-00003.txt 1 [('truck', 'truck', 88)]\n",
      "9-00001.txt 0 []\n",
      "9-00000.txt 0 []\n",
      "3-00008.txt 3 [('automobile', 'car', 216), ('rig', 'truck', 213), ('trailer truck', 'truck', 216)]\n"
     ]
    }
   ],
   "source": [
    "import os\n",
    "\n",
    "labels_dict = {\n",
    "    \"automobile\": \"car\", #0\n",
    "    \"car\": \"car\", #1\n",
    "    \"truck\": \"truck\", #2\n",
    "    \"18-wheeler\": \"truck\", #3\n",
    "    \"rig\": \"truck\", #4\n",
    "    \"semi\": \"truck\", #5\n",
    "    \"semitrailer\": \"truck\", #6\n",
    "    \"trailer truck\": \"truck\", #7\n",
    "    \"number plate\": \"license plate\", #8\n",
    "    \"registration plate\": \"license plate\", #9\n",
    "    \"license\": \"license plate\", #10\n",
    "    \"license plate\": \"license plate\", #11\n",
    "    \"license plate number\": \"license plate\", #12\n",
    "}\n",
    "\n",
    "# make a new directory for labels that meet the criteria: label = 'license plate' and num_segmentation_points <= 300\n",
    "labels_list = list(labels_dict.items())\n",
    "labels_path = '/Users/eric/Desktop/2-Career/Projects/ObjectDetectionLL/dataset_worked/train/labels'\n",
    "# labels_path = '/Users/eric/Desktop/2-Career/Projects/ObjectDetectionLL/dataset_worked/train/labels_filtered'\n",
    "# labels_filtered_path = '/Users/eric/Desktop/2-Career/Projects/ObjectDetectionLL/dataset_worked/train/labels_filtered'\n",
    "for filename in os.listdir(labels_path):\n",
    "    with open(os.path.join(labels_path, filename), 'r') as f:\n",
    "        contents = f.readlines()\n",
    "        labels = []\n",
    "        for line in contents:\n",
    "            label_str = line.split(' ')[0]\n",
    "            mask = line[len(label_str):].strip().split(' ')\n",
    "            num_segmentation_points = len(mask) // 2\n",
    "            label_int = int(label_str)\n",
    "            labels += [(labels_list[label_int][0], labels_list[label_int][1], num_segmentation_points)]\n",
    "        print(filename, len(contents), labels)\n"
   ]
  }
 ],
 "metadata": {
  "kernelspec": {
   "display_name": "CV",
   "language": "python",
   "name": "python3"
  },
  "language_info": {
   "codemirror_mode": {
    "name": "ipython",
    "version": 3
   },
   "file_extension": ".py",
   "mimetype": "text/x-python",
   "name": "python",
   "nbconvert_exporter": "python",
   "pygments_lexer": "ipython3",
   "version": "3.10.12"
  }
 },
 "nbformat": 4,
 "nbformat_minor": 2
}

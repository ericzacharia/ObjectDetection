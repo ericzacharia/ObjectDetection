{
 "cells": [
  {
   "cell_type": "code",
   "execution_count": null,
   "metadata": {},
   "outputs": [],
   "source": [
    "import os\n",
    "\n",
    "import torch\n",
    "from ultralytics import FastSAM, SAM, YOLO\n",
    "from ultralytics.data.annotator import auto_annotate\n",
    "print(torch.backends.mps.is_available())"
   ]
  },
  {
   "cell_type": "code",
   "execution_count": null,
   "metadata": {},
   "outputs": [],
   "source": [
    "model = SAM('sam_b.pt')"
   ]
  },
  {
   "cell_type": "code",
   "execution_count": null,
   "metadata": {},
   "outputs": [],
   "source": [
    "img_dir = 'data/license/images'\n",
    "img_files = sorted([f for f in os.listdir(img_dir) if f.endswith('.jpg')])\n",
    "img_file = f'{img_dir}/{img_files[0]}'\n",
    "model(img_file, show=True, device='mps')"
   ]
  },
  {
   "cell_type": "code",
   "execution_count": null,
   "metadata": {},
   "outputs": [],
   "source": [
    "video_dir = 'data/license/videos'\n",
    "video_files = sorted([f for f in os.listdir(video_dir) if f.endswith('.mp4')])\n",
    "video_file = f'{video_dir}/{video_files[0]}'\n",
    "results = model.predict(video_file, device='mps', verbose=False, show=True)"
   ]
  },
  {
   "cell_type": "code",
   "execution_count": null,
   "metadata": {},
   "outputs": [],
   "source": [
    "\n",
    "auto_annotate(data=\"/Users/eric/Desktop/2-Career/Projects/ObjectDetectionLL/delete\", \n",
    "              det_model=\"yolov8m.pt\", sam_model='sam_b.pt', device='mps')\n"
   ]
  }
 ],
 "metadata": {
  "kernelspec": {
   "display_name": "base",
   "language": "python",
   "name": "python3"
  },
  "language_info": {
   "codemirror_mode": {
    "name": "ipython",
    "version": 3
   },
   "file_extension": ".py",
   "mimetype": "text/x-python",
   "name": "python",
   "nbconvert_exporter": "python",
   "pygments_lexer": "ipython3",
   "version": "3.9.13"
  }
 },
 "nbformat": 4,
 "nbformat_minor": 2
}

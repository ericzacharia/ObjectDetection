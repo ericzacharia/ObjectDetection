{
 "cells": [
  {
   "cell_type": "code",
   "execution_count": 1,
   "metadata": {},
   "outputs": [
    {
     "name": "stdout",
     "output_type": "stream",
     "text": [
      "True\n"
     ]
    }
   ],
   "source": [
    "import os\n",
    "import time\n",
    "import threading\n",
    "\n",
    "import torch\n",
    "import numpy as np\n",
    "import cv2 as cv\n",
    "from ultralytics import YOLO\n",
    "import ipywidgets as widgets\n",
    "from IPython.display import display\n",
    "print(torch.backends.mps.is_available())"
   ]
  },
  {
   "cell_type": "code",
   "execution_count": 2,
   "metadata": {},
   "outputs": [],
   "source": [
    "video_dir = 'data/license/videos'\n",
    "# model = YOLO('yolov8m.pt')\n",
    "model = YOLO('/Users/eric/Desktop/2-Career/Projects/ObjectDetectionLL/runs/detect/train/weights/best.pt')\n",
    "video_files = sorted([f for f in os.listdir(video_dir) if f.endswith('.mp4')])\n",
    "video_file = f'{video_dir}/{video_files[0]}'"
   ]
  },
  {
   "cell_type": "code",
   "execution_count": 3,
   "metadata": {},
   "outputs": [],
   "source": [
    "capture = cv.VideoCapture(video_file)\n",
    "RED = (0, 0, 255)\n",
    "GREEN = (0, 255, 0)\n",
    "BLUE = (255, 0, 0)\n",
    "fps = int(capture.get(cv.CAP_PROP_FPS))\n",
    "\n",
    "# Global variables\n",
    "keep_playing = True\n",
    "is_paused = False\n",
    "\n",
    "# Create widgets\n",
    "image_widget = widgets.Image(format='jpeg', height=800, width=800)\n",
    "play_pause_button = widgets.ToggleButton(\n",
    "    value=False, description='Play/Pause', icon='play')\n",
    "stop_button = widgets.Button(description=\"Exit (rerun code)\", icon='stop')\n",
    "restart_button = widgets.Button(description=\"Restart\", icon='refresh')\n",
    "rewind_3s_button = widgets.Button(description=\"3s\", icon='fast-backward')\n",
    "rewind_1s_button = widgets.Button(description=\"1s\", icon='backward')\n",
    "fastforward_1s_button = widgets.Button(description=\"1s\", icon='forward')\n",
    "fastforward_3s_button = widgets.Button(description=\"3s\", icon='fast-forward')\n",
    "\n",
    "\n",
    "def display_frame(frame):\n",
    "    results = model(frame, device='mps', verbose=False)\n",
    "    result = results[0]\n",
    "    bboxes = np.array(result.boxes.xyxy.cpu(), dtype=\"int\")\n",
    "    classes = np.array(result.boxes.cls.cpu(), dtype=\"int\")\n",
    "\n",
    "    # create a dict of colors for each class\n",
    "    colors = {\n",
    "        '0': (0, 0, 255),\n",
    "        '1': (0, 255, 0),\n",
    "        '2': (255, 0, 0),\n",
    "        '3': (0, 255, 255),\n",
    "        '4': (255, 0, 255),\n",
    "        '5': (255, 255, 0),\n",
    "        '6': (255, 255, 255),\n",
    "        '7': (0, 0, 128),\n",
    "        '8': (0, 128, 0),\n",
    "        '9': (128, 0, 0),\n",
    "        '10': (0, 128, 128),\n",
    "        '11': (128, 0, 128),\n",
    "        '12': (128, 128, 0),\n",
    "        '13': (128, 128, 128),\n",
    "        '14': (0, 0, 64),\n",
    "        '15': (0, 64, 0),\n",
    "        '16': (64, 0, 0),\n",
    "        '17': (0, 64, 64),\n",
    "        '18': (64, 0, 64),\n",
    "        '19': (64, 64, 0),\n",
    "        '20': (64, 64, 64),\n",
    "    } \n",
    "    for classification, bbox in zip(classes, bboxes):\n",
    "        x1, y1, x2, y2 = bbox\n",
    "        cv.rectangle(frame, (x1, y1), (x2, y2), colors[classification], 2)\n",
    "        cv.putText(frame, str(classification), (x1, y1 - 5),\n",
    "                   cv.FONT_HERSHEY_SIMPLEX, 0.5, colors[classification], 2)\n",
    "\n",
    "    _, frame_data = cv.imencode('.jpeg', frame)\n",
    "    image_widget.value = frame_data.tobytes()\n",
    "    time.sleep(0.1)\n",
    "\n",
    "\n",
    "def play():\n",
    "    global keep_playing, is_paused\n",
    "    keep_playing = True\n",
    "    while keep_playing:\n",
    "        if not is_paused:\n",
    "            ret, frame = capture.read()\n",
    "            if not ret:\n",
    "                break\n",
    "            display_frame(frame)\n",
    "        else:\n",
    "            time.sleep(0.1)\n",
    "\n",
    "\n",
    "def pause(b):\n",
    "    global is_paused\n",
    "    is_paused = True\n",
    "\n",
    "\n",
    "def resume(b):\n",
    "    global is_paused\n",
    "    is_paused = False\n",
    "\n",
    "\n",
    "def stop(b):\n",
    "    global keep_playing\n",
    "    keep_playing = False\n",
    "    capture.release()\n",
    "\n",
    "\n",
    "def restart(b):\n",
    "    global is_paused\n",
    "    is_paused = True\n",
    "    capture.set(cv.CAP_PROP_POS_FRAMES, 0)\n",
    "    is_paused = False\n",
    "\n",
    "\n",
    "def rewind_1s(b):\n",
    "    global is_paused\n",
    "    current_state = is_paused  # Save the current state\n",
    "    is_paused = True           # Pause the video temporarily\n",
    "    current_time = capture.get(cv.CAP_PROP_POS_MSEC)\n",
    "    new_time = max(0, current_time - 1000)\n",
    "    capture.set(cv.CAP_PROP_POS_MSEC, new_time)\n",
    "    if current_state:\n",
    "        ret, frame = capture.read()\n",
    "        if ret:\n",
    "            display_frame(frame)\n",
    "    is_paused = current_state  # Restore the original state\n",
    "\n",
    "\n",
    "def rewind_3s(b):\n",
    "    global is_paused\n",
    "    current_state = is_paused  # Save the current state\n",
    "    is_paused = True           # Pause the video temporarily\n",
    "    current_time = capture.get(cv.CAP_PROP_POS_MSEC)\n",
    "    new_time = max(0, current_time - 3000)\n",
    "    capture.set(cv.CAP_PROP_POS_MSEC, new_time)\n",
    "    if current_state:\n",
    "        ret, frame = capture.read()\n",
    "        if ret:\n",
    "            display_frame(frame)\n",
    "    is_paused = current_state  # Restore the original state\n",
    "\n",
    "\n",
    "def fastforward_1s(b):\n",
    "    global is_paused\n",
    "    current_state = is_paused  # Save the current state\n",
    "    is_paused = True           # Pause the video temporarily\n",
    "    current_time = capture.get(cv.CAP_PROP_POS_MSEC)\n",
    "    total_time = capture.get(cv.CAP_PROP_FRAME_COUNT) * 1000 / fps\n",
    "    new_time = min(total_time, current_time + 3000) \n",
    "    capture.set(cv.CAP_PROP_POS_MSEC, new_time)\n",
    "    if current_state:\n",
    "        ret, frame = capture.read()\n",
    "        if ret:\n",
    "            display_frame(frame)\n",
    "    is_paused = current_state  # Restore the original state\n",
    "\n",
    "def fastforward_3s(b):\n",
    "    global is_paused\n",
    "    current_state = is_paused  # Save the current state\n",
    "    is_paused = True           # Pause the video temporarily\n",
    "    current_time = capture.get(cv.CAP_PROP_POS_MSEC)\n",
    "    total_time = capture.get(cv.CAP_PROP_FRAME_COUNT) * 1000 / fps\n",
    "    new_time = min(total_time, current_time + 3000) \n",
    "    capture.set(cv.CAP_PROP_POS_MSEC, new_time)\n",
    "    if current_state:\n",
    "        ret, frame = capture.read()\n",
    "        if ret:\n",
    "            display_frame(frame)\n",
    "    is_paused = current_state  # Restore the original state\n",
    "\n",
    "\n",
    "# Event Handlers\n",
    "play_pause_button.observe(lambda change: resume(\n",
    "    None) if change.new else pause(None), 'value')\n",
    "stop_button.on_click(stop)\n",
    "restart_button.on_click(restart)\n",
    "rewind_3s_button.on_click(rewind_3s)\n",
    "rewind_1s_button.on_click(rewind_1s)\n",
    "fastforward_1s_button.on_click(fastforward_1s)\n",
    "fastforward_3s_button.on_click(fastforward_3s)"
   ]
  },
  {
   "cell_type": "code",
   "execution_count": 4,
   "metadata": {},
   "outputs": [
    {
     "data": {
      "application/vnd.jupyter.widget-view+json": {
       "model_id": "79f381e7a6e04941b1e5fcc7da174793",
       "version_major": 2,
       "version_minor": 0
      },
      "text/plain": [
       "Image(value=b'', format='jpeg', height='800', width='800')"
      ]
     },
     "metadata": {},
     "output_type": "display_data"
    },
    {
     "data": {
      "application/vnd.jupyter.widget-view+json": {
       "model_id": "6ff9c0cef926449d8888c1aa6a1fc899",
       "version_major": 2,
       "version_minor": 0
      },
      "text/plain": [
       "HBox(children=(ToggleButton(value=False, description='Play/Pause', icon='play'), Button(description='3s', icon…"
      ]
     },
     "metadata": {},
     "output_type": "display_data"
    },
    {
     "name": "stderr",
     "output_type": "stream",
     "text": [
      "/opt/anaconda3/envs/CV/lib/python3.10/site-packages/ultralytics/yolo/utils/torch_utils.py:88: UserWarning: 'has_mps' is deprecated, please use 'torch.backends.mps.is_built()'\n",
      "  elif mps and getattr(torch, 'has_mps', False) and torch.backends.mps.is_available() and TORCH_2_X:\n"
     ]
    }
   ],
   "source": [
    "# Start video in a new thread\n",
    "threading.Thread(target=play).start()\n",
    "# threading.Thread(target=play)\n",
    "# Display widgets\n",
    "display(image_widget)\n",
    "display(widgets.HBox([play_pause_button, rewind_3s_button, rewind_1s_button, fastforward_1s_button, fastforward_3s_button, restart_button, stop_button]))"
   ]
  },
  {
   "cell_type": "code",
   "execution_count": null,
   "metadata": {},
   "outputs": [],
   "source": []
  }
 ],
 "metadata": {
  "kernelspec": {
   "display_name": "CV",
   "language": "python",
   "name": "python3"
  },
  "language_info": {
   "codemirror_mode": {
    "name": "ipython",
    "version": 3
   },
   "file_extension": ".py",
   "mimetype": "text/x-python",
   "name": "python",
   "nbconvert_exporter": "python",
   "pygments_lexer": "ipython3",
   "version": "3.10.12"
  }
 },
 "nbformat": 4,
 "nbformat_minor": 2
}

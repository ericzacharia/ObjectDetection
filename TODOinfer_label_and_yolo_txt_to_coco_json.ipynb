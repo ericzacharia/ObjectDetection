{
 "cells": [
  {
   "cell_type": "code",
   "execution_count": null,
   "metadata": {},
   "outputs": [],
   "source": [
    "# Run inference on test images and write the results to a annotations directory with each label file named after the image"
   ]
  },
  {
   "cell_type": "code",
   "execution_count": 3,
   "metadata": {},
   "outputs": [
    {
     "data": {
      "text/plain": [
       "'{\\n    \"licenses\": [{\\n        \"name\": \"\",\\n        \"id\": 0,\\n        \"url\": \"\"\\n    }],\\n    \"info\": {\\n        \"contributor\": \"\",\\n        \"date_created\": \"\",\\n        \"description\": \"\",\\n        \"url\": \"\",\\n        \"version\": \"\",\\n        \"year\": \"\"\\n    },\\n    \"categories\": [{\\n        \"id\": 1,\\n        \"name\": \"license plate\",\\n        \"supercategory\": \"\"\\n    }],\\n    \"images\": hey'"
      ]
     },
     "execution_count": 3,
     "metadata": {},
     "output_type": "execute_result"
    }
   ],
   "source": [
    "images = ''\n",
    "for i, image_name in enumerate(os.listdir('inferred_images')):\n",
    "    image = f'''{{\n",
    "            \"id\": {i},\n",
    "            \"width\": 3840,\n",
    "            \"height\": 2160,\n",
    "            \"file_name\": \"{image_name}\",\n",
    "            \"license\": 0,\n",
    "            \"flickr_url\": \"\",\n",
    "            \"coco_url\": \"\",\n",
    "            \"date_captured\": 0\n",
    "        }}'''\n",
    "    # qadd a comma to the end of each image except the last one\n",
    "    if i < len(os.listdir('inferred_images')) - 1:\n",
    "        image += ', '\n",
    "contents = f'''{{\n",
    "    \"licenses\": [{{\n",
    "        \"name\": \"\",\n",
    "        \"id\": 0,\n",
    "        \"url\": \"\"\n",
    "    }}],\n",
    "    \"info\": {{\n",
    "        \"contributor\": \"\",\n",
    "        \"date_created\": \"\",\n",
    "        \"description\": \"\",\n",
    "        \"url\": \"\",\n",
    "        \"version\": \"\",\n",
    "        \"year\": \"\"\n",
    "    }},\n",
    "    \"categories\": [{{\n",
    "        \"id\": 1,\n",
    "        \"name\": \"license plate\",\n",
    "        \"supercategory\": \"\"\n",
    "    }}],\n",
    "    \"images\": [{images}]'''\n",
    "contents"
   ]
  },
  {
   "cell_type": "code",
   "execution_count": null,
   "metadata": {},
   "outputs": [],
   "source": []
  }
 ],
 "metadata": {
  "kernelspec": {
   "display_name": "CV",
   "language": "python",
   "name": "python3"
  },
  "language_info": {
   "codemirror_mode": {
    "name": "ipython",
    "version": 3
   },
   "file_extension": ".py",
   "mimetype": "text/x-python",
   "name": "python",
   "nbconvert_exporter": "python",
   "pygments_lexer": "ipython3",
   "version": "3.10.12"
  }
 },
 "nbformat": 4,
 "nbformat_minor": 2
}

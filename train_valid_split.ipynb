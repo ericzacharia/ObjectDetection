{
 "cells": [
  {
   "cell_type": "code",
   "execution_count": 1,
   "metadata": {},
   "outputs": [
    {
     "name": "stdout",
     "output_type": "stream",
     "text": [
      "Found 330 images.\n",
      "Found 330 annotations.\n",
      "Found 330 images with annotations.\n",
      "Found 330 annotations.\n"
     ]
    }
   ],
   "source": [
    "from sklearn.model_selection import train_test_split\n",
    "import shutil\n",
    "import os\n",
    "\n",
    "def split_dataset(image_dir, annotation_dir, input_directory, train_ratio=0.8):\n",
    "    images = sorted([f for f in os.listdir(image_dir) if f.endswith(('.png', '.jpg', '.jpeg'))])\n",
    "    annotations = sorted(os.listdir(annotation_dir))\n",
    "\n",
    "    # Ensure corresponding annotation files exist (FILE NAMES NEED TO MATCH EXACTLY)\n",
    "    images_with_annotations = []\n",
    "    annotations_filtered = []\n",
    "    for image in images:\n",
    "        annotation = image.rsplit('.', 1)[0] + '.txt'\n",
    "        if annotation in annotations:\n",
    "            images_with_annotations.append(image)\n",
    "            annotations_filtered.append(annotation)\n",
    "\n",
    "    print(f'Found {len(images)} images.')\n",
    "    print(f'Found {len(annotations)} annotations.')\n",
    "    print(f'Found {len(images_with_annotations)} images with annotations.')\n",
    "    print(f'Found {len(annotations_filtered)} annotations.')\n",
    "\n",
    "    # Split into train and valid sets\n",
    "    train_images, valid_images, train_annotations, valid_annotations = train_test_split(\n",
    "        images_with_annotations, annotations_filtered, train_size=train_ratio\n",
    "    )\n",
    "\n",
    "    # Function to copy files to a target directory\n",
    "    def copy_files(files, source_dir, target_dir):\n",
    "        for file in files:\n",
    "            shutil.copy(os.path.join(source_dir, file), os.path.join(target_dir, file))\n",
    "\n",
    "    # Create directories and copy files\n",
    "    os.makedirs(f'{input_directory}/train/images', exist_ok=True)\n",
    "    os.makedirs(f'{input_directory}/train/labels', exist_ok=True)\n",
    "    os.makedirs(f'{input_directory}/valid/images', exist_ok=True)\n",
    "    os.makedirs(f'{input_directory}/valid/labels', exist_ok=True)\n",
    "\n",
    "    copy_files(train_images, image_dir, f'{input_directory}/train/images')\n",
    "    copy_files(valid_images, image_dir, f'{input_directory}/valid/images')\n",
    "    copy_files(train_annotations, annotation_dir, f'{input_directory}/train/labels')\n",
    "    copy_files(valid_annotations, annotation_dir, f'{input_directory}/valid/labels')\n",
    "\n",
    "    if overwrite_yolo_dataset:\n",
    "        path = f'{input_directory}/dataset/'\n",
    "        # overwrite the directories if they exist\n",
    "        os.makedirs(f'{path}/train/images', exist_ok=True)\n",
    "        os.makedirs(f'{path}/train/labels', exist_ok=True)\n",
    "        os.makedirs(f'{path}/valid/images', exist_ok=True)\n",
    "        os.makedirs(f'{path}/valid/labels', exist_ok=True)\n",
    "\n",
    "        copy_files(train_images, image_dir, f'{path}/train/images')\n",
    "        copy_files(valid_images, image_dir, f'{path}/valid/images')\n",
    "        copy_files(train_annotations, annotation_dir, f'{path}/train/labels')\n",
    "        copy_files(valid_annotations, annotation_dir, f'{path}/valid/labels')\n",
    "\n",
    "overwrite_yolo_dataset = True\n",
    "input_directory = '/Users/eric/Desktop/2-Career/Projects/ObjectDetection/dog_park/'\n",
    "images_dir = f'{input_directory}/images'\n",
    "annotations_dir = f'{input_directory}/labels'\n",
    "split_dataset(images_dir, annotations_dir, input_directory, train_ratio=0.8)\n"
   ]
  },
  {
   "cell_type": "code",
   "execution_count": null,
   "metadata": {},
   "outputs": [],
   "source": []
  }
 ],
 "metadata": {
  "kernelspec": {
   "display_name": "CV",
   "language": "python",
   "name": "python3"
  },
  "language_info": {
   "codemirror_mode": {
    "name": "ipython",
    "version": 3
   },
   "file_extension": ".py",
   "mimetype": "text/x-python",
   "name": "python",
   "nbconvert_exporter": "python",
   "pygments_lexer": "ipython3",
   "version": "3.10.12"
  }
 },
 "nbformat": 4,
 "nbformat_minor": 2
}

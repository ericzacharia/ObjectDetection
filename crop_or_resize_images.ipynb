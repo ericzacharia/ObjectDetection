{
 "cells": [
  {
   "cell_type": "code",
   "execution_count": 2,
   "metadata": {},
   "outputs": [
    {
     "ename": "KeyboardInterrupt",
     "evalue": "",
     "output_type": "error",
     "traceback": [
      "\u001b[0;31m---------------------------------------------------------------------------\u001b[0m",
      "\u001b[0;31mKeyboardInterrupt\u001b[0m                         Traceback (most recent call last)",
      "\u001b[1;32m/Users/eric/Desktop/2-Career/Projects/ObjectDetection/crop_or_resize_images.ipynb Cell 1\u001b[0m line \u001b[0;36m1\n\u001b[1;32m     <a href='vscode-notebook-cell:/Users/eric/Desktop/2-Career/Projects/ObjectDetection/crop_or_resize_images.ipynb#W0sZmlsZQ%3D%3D?line=13'>14</a>\u001b[0m image_path \u001b[39m=\u001b[39m os\u001b[39m.\u001b[39mpath\u001b[39m.\u001b[39mjoin(source_dir, file_name)\n\u001b[1;32m     <a href='vscode-notebook-cell:/Users/eric/Desktop/2-Career/Projects/ObjectDetection/crop_or_resize_images.ipynb#W0sZmlsZQ%3D%3D?line=14'>15</a>\u001b[0m \u001b[39mif\u001b[39;00m os\u001b[39m.\u001b[39mpath\u001b[39m.\u001b[39misfile(image_path):  \u001b[39m# Check if it is a file\u001b[39;00m\n\u001b[0;32m---> <a href='vscode-notebook-cell:/Users/eric/Desktop/2-Career/Projects/ObjectDetection/crop_or_resize_images.ipynb#W0sZmlsZQ%3D%3D?line=15'>16</a>\u001b[0m     img \u001b[39m=\u001b[39m cv2\u001b[39m.\u001b[39;49mimread(image_path)\n\u001b[1;32m     <a href='vscode-notebook-cell:/Users/eric/Desktop/2-Career/Projects/ObjectDetection/crop_or_resize_images.ipynb#W0sZmlsZQ%3D%3D?line=16'>17</a>\u001b[0m     \u001b[39mif\u001b[39;00m img \u001b[39mis\u001b[39;00m \u001b[39mnot\u001b[39;00m \u001b[39mNone\u001b[39;00m:  \u001b[39m# Check if the image was read correctly\u001b[39;00m\n\u001b[1;32m     <a href='vscode-notebook-cell:/Users/eric/Desktop/2-Career/Projects/ObjectDetection/crop_or_resize_images.ipynb#W0sZmlsZQ%3D%3D?line=17'>18</a>\u001b[0m         resized_img \u001b[39m=\u001b[39m cv2\u001b[39m.\u001b[39mresize(img, (\u001b[39m640\u001b[39m, \u001b[39m640\u001b[39m), interpolation\u001b[39m=\u001b[39mcv2\u001b[39m.\u001b[39mINTER_AREA)\n",
      "\u001b[0;31mKeyboardInterrupt\u001b[0m: "
     ]
    }
   ],
   "source": [
    "# RESIZE\n",
    "import cv2\n",
    "import os\n",
    "\n",
    "# Define the source and target directories\n",
    "source_dir = 'all_images'\n",
    "target_dir = 'all_images_resized_640x640'\n",
    "\n",
    "\n",
    "if not os.path.exists(target_dir):\n",
    "    os.makedirs(target_dir)\n",
    "\n",
    "for file_name in os.listdir(source_dir):\n",
    "    image_path = os.path.join(source_dir, file_name)\n",
    "    if os.path.isfile(image_path):  # Check if it is a file\n",
    "        img = cv2.imread(image_path)\n",
    "        if img is not None:  # Check if the image was read correctly\n",
    "            resized_img = cv2.resize(img, (640, 640), interpolation=cv2.INTER_AREA)\n",
    "            filename = os.path.basename(image_path)\n",
    "            target_path = os.path.join(target_dir, filename)\n",
    "            cv2.imwrite(target_path, resized_img)\n",
    "        else:\n",
    "            print(f\"Could not read image {image_path}. Make sure it's a valid image file.\")\n",
    "    else:\n",
    "        print(f\"Skipped {image_path}, because it's not a file.\")\n",
    "\n",
    "\n"
   ]
  },
  {
   "cell_type": "code",
   "execution_count": null,
   "metadata": {},
   "outputs": [],
   "source": []
  },
  {
   "cell_type": "code",
   "execution_count": null,
   "metadata": {},
   "outputs": [],
   "source": [
    "# CROP\n",
    "import cv2\n",
    "import os\n",
    "\n",
    "# Define the directory path that contains the images.\n",
    "input_directory_path = 'all_images'\n",
    "\n",
    "# Define the directory path where the cropped images will be saved.\n",
    "output_directory_path = 'all_images_cropped'\n",
    "\n",
    "# Create the output directory if it does not exist.\n",
    "if not os.path.exists(output_directory_path):\n",
    "    os.makedirs(output_directory_path, exist_ok=True)\n",
    "\n",
    "# Define the percentages to crop from each border.\n",
    "top_pct, bottom_pct, left_pct, right_pct = 30, 20, 20, 20\n",
    "\n",
    "# List all files in the directory.\n",
    "for filename in os.listdir(input_directory_path):\n",
    "    if filename.lower().endswith(('.png', '.jpg', '.jpeg', '.tiff', '.bmp', '.gif')):\n",
    "        # Construct the full file path.\n",
    "        input_file_path = os.path.join(input_directory_path, filename)\n",
    "        \n",
    "        # Read the image from the file.\n",
    "        image = cv2.imread(input_file_path)\n",
    "        \n",
    "        # Get image dimensions.\n",
    "        h, w = image.shape[:2]\n",
    "        \n",
    "        # Calculate crop dimensions.\n",
    "        left = int(w * left_pct / 100)\n",
    "        right = w - int(w * right_pct / 100)\n",
    "        top = int(h * top_pct / 100)\n",
    "        bottom = h - int(h * bottom_pct / 100)\n",
    "        \n",
    "        # Crop the image.\n",
    "        cropped_image = image[top:bottom, left:right]\n",
    "        print(cropped_image.shape)\n",
    "        # Construct the full output file path.\n",
    "        output_file_path = os.path.join(output_directory_path, filename)\n",
    "        \n",
    "        # Save the cropped image to the new directory.\n",
    "        cv2.imwrite(output_file_path, cropped_image)\n"
   ]
  },
  {
   "cell_type": "code",
   "execution_count": null,
   "metadata": {},
   "outputs": [],
   "source": []
  }
 ],
 "metadata": {
  "kernelspec": {
   "display_name": "CV",
   "language": "python",
   "name": "python3"
  },
  "language_info": {
   "codemirror_mode": {
    "name": "ipython",
    "version": 3
   },
   "file_extension": ".py",
   "mimetype": "text/x-python",
   "name": "python",
   "nbconvert_exporter": "python",
   "pygments_lexer": "ipython3",
   "version": "3.10.12"
  }
 },
 "nbformat": 4,
 "nbformat_minor": 2
}
